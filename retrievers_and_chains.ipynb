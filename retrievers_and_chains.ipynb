{
 "cells": [
  {
   "cell_type": "code",
   "execution_count": 31,
   "metadata": {},
   "outputs": [],
   "source": [
    "import os\n",
    "from dotenv import load_dotenv\n",
    "\n",
    "load_dotenv()\n",
    "os.environ[\"GROQ_API_KEY\"]=os.getenv(\"GROQ_API_KEY\")\n",
    "os.environ[\"LANGCHAIN_API_KEY\"]=os.getenv(\"LANGCHAIN_API_KEY\")\n",
    "os.environ[\"LANGCHAIN_PROJECT\"]=os.getenv(\"LANGCHAIN_PROJECT\")\n",
    "os.environ[\"LANGCHAIN_TRACING\"]=\"true\""
   ]
  },
  {
   "cell_type": "code",
   "execution_count": 32,
   "metadata": {},
   "outputs": [],
   "source": [
    "from langchain_groq import ChatGroq\n",
    "\n",
    "llm= ChatGroq(model=\"llama3-8b-8192\")"
   ]
  },
  {
   "cell_type": "code",
   "execution_count": 33,
   "metadata": {},
   "outputs": [
    {
     "data": {
      "text/plain": [
       "AIMessage(content='There are 38 districts in the Indian state of Tamil Nadu.', response_metadata={'token_usage': {'completion_tokens': 14, 'prompt_tokens': 20, 'total_tokens': 34, 'completion_time': 0.011666667, 'prompt_time': 0.004862134, 'queue_time': 0.009059646000000001, 'total_time': 0.016528801}, 'model_name': 'llama3-8b-8192', 'system_fingerprint': 'fp_a97cfe35ae', 'finish_reason': 'stop', 'logprobs': None}, id='run-a5a138d4-dd15-4f25-b8ba-5c842fa80b73-0', usage_metadata={'input_tokens': 20, 'output_tokens': 14, 'total_tokens': 34})"
      ]
     },
     "execution_count": 33,
     "metadata": {},
     "output_type": "execute_result"
    }
   ],
   "source": [
    "resp=llm.invoke(\"How many districts are there in Tamilnadu?\")\n",
    "resp"
   ]
  },
  {
   "cell_type": "code",
   "execution_count": 34,
   "metadata": {},
   "outputs": [],
   "source": [
    "from langchain_core.prompts import ChatPromptTemplate\n",
    "\n",
    "prompt=ChatPromptTemplate.from_messages([\n",
    "    (\"system\",\"You are an expert chef knowing various cuisines and who is so enthusiastic and curious.You have knowledge of different cuisines around the world yet you are so addicted to {cuisine_type} cuisine.You feel it is both healthy,variety and tasty .Answer the questions based on the relevance of given context and wrap the output in `json` tags \\n{format_instructions}\"),\n",
    "    (\"human\",\"Hello chef!Great to have conversation with you\"),\n",
    "    (\"ai\",\"Voila.Nice to meet you.Happy to answer your questions.\"),\n",
    "    (\"human\",\"I know {level} level of cooking.I would be happy if you could explain me based on my level of knowledge and skill.\"),\n",
    "    (\"ai\",\"Sure..I would explain you based on your level!!\"),\n",
    "    (\"user\",\"{input}\")\n",
    "])\n"
   ]
  },
  {
   "cell_type": "code",
   "execution_count": null,
   "metadata": {},
   "outputs": [],
   "source": [
    "from langchain_core.output_parsers import StrOutputParser\n",
    "\n",
    "output_parser=StrOutputParser()\n",
    "chain=prompt | llm | output_parser\n",
    "chat_response=chain.invoke({\"input\":\"Which cuisine is the best one in world and why?\",\"cuisine_type\":\"French\",\"level\":\"expert\"})\n",
    "chat_response\n"
   ]
  },
  {
   "cell_type": "code",
   "execution_count": 39,
   "metadata": {},
   "outputs": [],
   "source": [
    "from langchain_core.output_parsers import PydanticOutputParser\n",
    "from langchain_core.pydantic_v1 import BaseModel,Field\n",
    "from typing import List\n",
    "\n",
    "class ChefOutputFormat(BaseModel):\n",
    "    answer:str=Field(...,description=\"Short answer to the question asked\")\n",
    "    reason:str=Field(...,description=\"Detailed explanation or reason for the short answer provided\")\n",
    "    reference:List[str]=Field(...,description=\"Reference from other resources to the answer provided if reference is needed.\")\n",
    "\n",
    "parser=PydanticOutputParser(pydantic_object=ChefOutputFormat)\n",
    "    "
   ]
  },
  {
   "cell_type": "code",
   "execution_count": 40,
   "metadata": {},
   "outputs": [],
   "source": [
    "prompt=ChatPromptTemplate.from_messages([\n",
    "    (\"system\",\"You are an expert chef knowing various cuisines and who is so enthusiastic and curious.You have knowledge of different cuisines around the world yet you are so addicted to {cuisine_type} cuisine.You feel it is both healthy,variety and tasty .Answer the questions based on the relevance of given context.Wrap the output in ```json tags\\n{format_instructions}\\n```\"),\n",
    "    (\"human\",\"Hello chef!Great to have conversation with you\"),\n",
    "    (\"ai\",\"Voila.Nice to meet you.Happy to answer your questions.\"),\n",
    "    (\"human\",\"I know {level} of cooking.I would be happy if you could explain me based on my level of knowledge and skill.\"),\n",
    "    (\"ai\",\"Sure..I would explain you based on your level!!\"),\n",
    "    (\"user\",\"{input}\")\n",
    "]).partial(format_instructions=parser.get_format_instructions())"
   ]
  },
  {
   "cell_type": "code",
   "execution_count": 41,
   "metadata": {},
   "outputs": [
    {
     "data": {
      "text/plain": [
       "ChefOutputFormat(answer='French cuisine', reason='French cuisine is a masterpiece of culinary art, offering a harmonious balance of flavors, textures, and presentation. With its rich history and cultural heritage, French cuisine has evolved over centuries to become a benchmark for fine dining. The attention to detail, the use of fresh and high-quality ingredients, and the technique-driven approach make French cuisine both healthy and delicious. From the rich flavors of Bouillabaisse to the delicate pastries of Macarons, French cuisine is a symphony of flavors and textures that never fails to impress.', reference=['Michelin-starred restaurants', 'French culinary schools', 'French gastronomic tourism'])"
      ]
     },
     "execution_count": 41,
     "metadata": {},
     "output_type": "execute_result"
    }
   ],
   "source": [
    "chain=prompt | llm | parser\n",
    "chat_response=chain.invoke({\"input\":\"Which cuisine is the best one in world and why?\",\"cuisine_type\":\"French\",\"level\":\"expert\"})\n",
    "chat_response"
   ]
  },
  {
   "cell_type": "code",
   "execution_count": 44,
   "metadata": {},
   "outputs": [],
   "source": [
    "from langchain.chains.combine_documents import create_stuff_documents_chain\n",
    "from langchain_core.prompts import ChatPromptTemplate\n",
    "\n",
    "\n",
    "context_relevant_prompt=ChatPromptTemplate.from_template(\n",
    "    \"\"\"\n",
    "    Answer the questions basd on the current context \n",
    "    <context>\n",
    "    {context}\n",
    "    </context>\n",
    "    \"\"\"\n",
    ")\n"
   ]
  },
  {
   "cell_type": "code",
   "execution_count": 45,
   "metadata": {},
   "outputs": [
    {
     "data": {
      "text/plain": [
       "RunnableBinding(bound=RunnableBinding(bound=RunnableAssign(mapper={\n",
       "  context: RunnableLambda(format_docs)\n",
       "}), config={'run_name': 'format_inputs'})\n",
       "| ChatPromptTemplate(input_variables=['context'], messages=[HumanMessagePromptTemplate(prompt=PromptTemplate(input_variables=['context'], template='\\n    Answer the questions basd on the current context \\n    <context>\\n    {context}\\n    </context>\\n    '))])\n",
       "| ChatGroq(client=<groq.resources.chat.completions.Completions object at 0x16139b310>, async_client=<groq.resources.chat.completions.AsyncCompletions object at 0x127f24a90>, model_name='llama3-8b-8192', groq_api_key=SecretStr('**********'))\n",
       "| StrOutputParser(), config={'run_name': 'stuff_documents_chain'})"
      ]
     },
     "execution_count": 45,
     "metadata": {},
     "output_type": "execute_result"
    }
   ],
   "source": [
    "document_chain=create_stuff_documents_chain(llm,context_relevant_prompt)\n",
    "document_chain"
   ]
  }
 ],
 "metadata": {
  "kernelspec": {
   "display_name": "venv",
   "language": "python",
   "name": "python3"
  },
  "language_info": {
   "codemirror_mode": {
    "name": "ipython",
    "version": 3
   },
   "file_extension": ".py",
   "mimetype": "text/x-python",
   "name": "python",
   "nbconvert_exporter": "python",
   "pygments_lexer": "ipython3",
   "version": "3.11.9"
  }
 },
 "nbformat": 4,
 "nbformat_minor": 2
}
