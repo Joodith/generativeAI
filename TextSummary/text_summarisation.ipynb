{
 "cells": [
  {
   "cell_type": "code",
   "execution_count": 1,
   "metadata": {},
   "outputs": [
    {
     "name": "stderr",
     "output_type": "stream",
     "text": [
      "Python-dotenv could not parse statement starting at line 4\n"
     ]
    }
   ],
   "source": [
    "import os\n",
    "from dotenv import load_dotenv\n",
    "load_dotenv()\n",
    "\n",
    "os.environ[\"GROQ_API_KEY\"]=os.getenv(\"GROQ_API_KEY\")"
   ]
  },
  {
   "cell_type": "code",
   "execution_count": 3,
   "metadata": {},
   "outputs": [],
   "source": [
    "from langchain_groq import ChatGroq\n",
    "\n",
    "llm= ChatGroq(model=\"llama3-8b-8192\")"
   ]
  },
  {
   "cell_type": "code",
   "execution_count": 6,
   "metadata": {},
   "outputs": [],
   "source": [
    "from langchain_core.messages import AIMessage,HumanMessage\n"
   ]
  },
  {
   "cell_type": "code",
   "execution_count": 4,
   "metadata": {},
   "outputs": [],
   "source": [
    "speech=\"\"\"I have three visions for India. In 3000 years of our history, people from all over the world have come and invaded us, captured our lands, conquered our minds. From Alexander onwards, the Greeks, the Turks, the Mughals, the Portuguese, the British, the French, the Dutch – all of them came and looted us, took over what was ours. Yet, we have not done this to any other nation. We have not conquered anyone. We have not grabbed their land, their culture, their history, and tried to enforce our way of life on them. Why? Because we respect the freedom of others. That is why my first vision is that of freedom.\n",
    "\n",
    "I believe that India got its first vision of this in 1857, when we started the War of Independence. It is this freedom that we must protect and nurture and build on. If we are not free, no one will respect us.\n",
    "\n",
    "My second vision for India is development. For fifty years we have been a developing nation. It is time we see ourselves as a developed nation. We are among the top five nations of the world in terms of GDP. We have a 10 percent growth rate in most areas. Our poverty levels are falling. Our achievements are being globally recognized today. Yet we lack the self-confidence to see ourselves as a developed nation, self-reliant and self-assured. Isn’t this incorrect?\n",
    "\n",
    "I have a third vision. India must stand up to the world. Because I believe that unless India stands up to the world, no one will respect us. Only strength respects strength. We must be strong not only as a military power but also as an economic power. Both must go hand-in-hand.\n",
    "\n",
    "Why is the media here so negative? Why are we in India so embarrassed to recognize our own strengths, our achievements? We are such a great nation. We have so many amazing success stories but we refuse to acknowledge them. Why?\n",
    "\n",
    "We are the first in milk production. We are number one in remote sensing satellites. We are the second largest producer of wheat. We are the second largest producer of rice. Look at Dr. Sudarshan, he has transformed the tribal village into a self-sustaining, self-driving unit. There are millions of such achievements, but our media is only obsessed with bad news and failures and disasters. Why this negativity?\n",
    "\n",
    "I was in Tel Aviv once and I was reading the Israeli newspaper. It was the day after a lot of attacks and bombardments, and the Hamas had struck, but the front page of the newspaper had the picture of a Jewish gentleman who in five years had transformed his desert land into an orchid farm. It was this inspiring picture that everyone woke up to. The gory details of killings, bombardments, deaths were inside the newspaper, buried among other news.\n",
    "\n",
    "In India, we only read about death, sickness, terrorism, crime. Why are we so NEGATIVE? The media would have us believe that we are a nation of failures. But in fact, we are a nation of successes, the silent achievers, the visionaries, the doers, the dreamers. It’s just that we have forgotten our dreams.\n",
    "\n",
    "I believe in youth. You are our greatest asset. The youth have the power to bring about change. You are our future, and the future is in your hands. I want you to take up the challenge of transforming India into a great developed nation. Don’t stop dreaming. Don’t give up hope. Keep working hard, and never be afraid of failure. As long as you believe in yourself and your dreams, nothing is impossible. You are the leaders of tomorrow. Remember what I always say: Dream, dream, dream. Dreams transform into thoughts and thoughts result in action.\n",
    "\n",
    "So let us together build a new India, an India that is free, strong, and developed. Each one of you has the power within you to shape our future. Dream big, work hard, and most importantly, never stop believing in yourself and your dreams.**\n",
    "\n",
    "\"\"\""
   ]
  },
  {
   "cell_type": "code",
   "execution_count": 7,
   "metadata": {},
   "outputs": [],
   "source": [
    "chat_message=[\n",
    "    AIMessage(content=\"You are an expert in summarising text.\"),\n",
    "    HumanMessage(content=f\"Provide the consise summary of the given speech: {speech}\"),\n",
    "]"
   ]
  },
  {
   "cell_type": "code",
   "execution_count": 8,
   "metadata": {},
   "outputs": [
    {
     "name": "stderr",
     "output_type": "stream",
     "text": [
      "/Users/joodithhermminal/projects/ai_softwares/langchain_components/venv/lib/python3.11/site-packages/tqdm/auto.py:21: TqdmWarning: IProgress not found. Please update jupyter and ipywidgets. See https://ipywidgets.readthedocs.io/en/stable/user_install.html\n",
      "  from .autonotebook import tqdm as notebook_tqdm\n",
      "/Users/joodithhermminal/projects/ai_softwares/langchain_components/venv/lib/python3.11/site-packages/transformers/tokenization_utils_base.py:1601: FutureWarning: `clean_up_tokenization_spaces` was not set. It will be set to `True` by default. This behavior will be depracted in transformers v4.45, and will be then set to `False` by default. For more details check this issue: https://github.com/huggingface/transformers/issues/31884\n",
      "  warnings.warn(\n"
     ]
    },
    {
     "data": {
      "text/plain": [
       "849"
      ]
     },
     "execution_count": 8,
     "metadata": {},
     "output_type": "execute_result"
    }
   ],
   "source": [
    "llm.get_num_tokens(speech)"
   ]
  },
  {
   "cell_type": "code",
   "execution_count": 9,
   "metadata": {},
   "outputs": [
    {
     "name": "stderr",
     "output_type": "stream",
     "text": [
      "/Users/joodithhermminal/projects/ai_softwares/langchain_components/venv/lib/python3.11/site-packages/langchain_core/_api/deprecation.py:151: LangChainDeprecationWarning: The method `BaseChatModel.__call__` was deprecated in langchain-core 0.1.7 and will be removed in 1.0. Use invoke instead.\n",
      "  warn_deprecated(\n"
     ]
    },
    {
     "data": {
      "text/plain": [
       "AIMessage(content=\"Here is a concise summary of the speech:\\n\\nThe speaker has three visions for India: freedom, development, and standing tall in the world. He emphasizes the importance of respecting the freedom of others and protecting India's own freedom. He encourages the youth to take up the challenge of transforming India into a developed nation, citing India's many achievements and strengths. He also criticizes the media for focusing on negative news and encourages the audience to dream big and never give up hope.\", response_metadata={'token_usage': {'completion_tokens': 95, 'prompt_tokens': 859, 'total_tokens': 954, 'completion_time': 0.079166667, 'prompt_time': 0.14381026, 'queue_time': 0.9781572510000001, 'total_time': 0.222976927}, 'model_name': 'llama3-8b-8192', 'system_fingerprint': 'fp_873a560973', 'finish_reason': 'stop', 'logprobs': None}, id='run-279aca28-4004-4c37-ab7b-e34465ae9454-0', usage_metadata={'input_tokens': 859, 'output_tokens': 95, 'total_tokens': 954})"
      ]
     },
     "execution_count": 9,
     "metadata": {},
     "output_type": "execute_result"
    }
   ],
   "source": [
    "llm(chat_message)"
   ]
  },
  {
   "cell_type": "code",
   "execution_count": 13,
   "metadata": {},
   "outputs": [],
   "source": [
    "from langchain.chains import LLMChain\n",
    "from langchain import PromptTemplate\n",
    "\n",
    "generic_template=\"\"\"\n",
    "Write a summary of the following:\n",
    "Speech: {speech}\n",
    "Translate the following to {language}\n",
    "\"\"\""
   ]
  },
  {
   "cell_type": "code",
   "execution_count": 14,
   "metadata": {},
   "outputs": [],
   "source": [
    "prompt=PromptTemplate(\n",
    "    input_variables=[\"speech\",\"language\"],\n",
    "    template=generic_template\n",
    ")"
   ]
  },
  {
   "cell_type": "code",
   "execution_count": 17,
   "metadata": {},
   "outputs": [
    {
     "data": {
      "text/plain": [
       "'\\nWrite a summary of the following:\\nSpeech: I have three visions for India. In 3000 years of our history, people from all over the world have come and invaded us, captured our lands, conquered our minds. From Alexander onwards, the Greeks, the Turks, the Mughals, the Portuguese, the British, the French, the Dutch – all of them came and looted us, took over what was ours. Yet, we have not done this to any other nation. We have not conquered anyone. We have not grabbed their land, their culture, their history, and tried to enforce our way of life on them. Why? Because we respect the freedom of others. That is why my first vision is that of freedom.\\n\\nI believe that India got its first vision of this in 1857, when we started the War of Independence. It is this freedom that we must protect and nurture and build on. If we are not free, no one will respect us.\\n\\nMy second vision for India is development. For fifty years we have been a developing nation. It is time we see ourselves as a developed nation. We are among the top five nations of the world in terms of GDP. We have a 10 percent growth rate in most areas. Our poverty levels are falling. Our achievements are being globally recognized today. Yet we lack the self-confidence to see ourselves as a developed nation, self-reliant and self-assured. Isn’t this incorrect?\\n\\nI have a third vision. India must stand up to the world. Because I believe that unless India stands up to the world, no one will respect us. Only strength respects strength. We must be strong not only as a military power but also as an economic power. Both must go hand-in-hand.\\n\\nWhy is the media here so negative? Why are we in India so embarrassed to recognize our own strengths, our achievements? We are such a great nation. We have so many amazing success stories but we refuse to acknowledge them. Why?\\n\\nWe are the first in milk production. We are number one in remote sensing satellites. We are the second largest producer of wheat. We are the second largest producer of rice. Look at Dr. Sudarshan, he has transformed the tribal village into a self-sustaining, self-driving unit. There are millions of such achievements, but our media is only obsessed with bad news and failures and disasters. Why this negativity?\\n\\nI was in Tel Aviv once and I was reading the Israeli newspaper. It was the day after a lot of attacks and bombardments, and the Hamas had struck, but the front page of the newspaper had the picture of a Jewish gentleman who in five years had transformed his desert land into an orchid farm. It was this inspiring picture that everyone woke up to. The gory details of killings, bombardments, deaths were inside the newspaper, buried among other news.\\n\\nIn India, we only read about death, sickness, terrorism, crime. Why are we so NEGATIVE? The media would have us believe that we are a nation of failures. But in fact, we are a nation of successes, the silent achievers, the visionaries, the doers, the dreamers. It’s just that we have forgotten our dreams.\\n\\nI believe in youth. You are our greatest asset. The youth have the power to bring about change. You are our future, and the future is in your hands. I want you to take up the challenge of transforming India into a great developed nation. Don’t stop dreaming. Don’t give up hope. Keep working hard, and never be afraid of failure. As long as you believe in yourself and your dreams, nothing is impossible. You are the leaders of tomorrow. Remember what I always say: Dream, dream, dream. Dreams transform into thoughts and thoughts result in action.\\n\\nSo let us together build a new India, an India that is free, strong, and developed. Each one of you has the power within you to shape our future. Dream big, work hard, and most importantly, never stop believing in yourself and your dreams.**\\n\\n\\nTranslate the following to French\\n'"
      ]
     },
     "execution_count": 17,
     "metadata": {},
     "output_type": "execute_result"
    }
   ],
   "source": [
    "complete_prompt=prompt.format(speech=speech,language=\"French\")\n",
    "complete_prompt"
   ]
  },
  {
   "cell_type": "code",
   "execution_count": 18,
   "metadata": {},
   "outputs": [
    {
     "data": {
      "text/plain": [
       "869"
      ]
     },
     "execution_count": 18,
     "metadata": {},
     "output_type": "execute_result"
    }
   ],
   "source": [
    "llm.get_num_tokens(complete_prompt)"
   ]
  },
  {
   "cell_type": "code",
   "execution_count": 19,
   "metadata": {},
   "outputs": [
    {
     "name": "stderr",
     "output_type": "stream",
     "text": [
      "/Users/joodithhermminal/projects/ai_softwares/langchain_components/venv/lib/python3.11/site-packages/langchain_core/_api/deprecation.py:151: LangChainDeprecationWarning: The class `LLMChain` was deprecated in LangChain 0.1.17 and will be removed in 1.0. Use RunnableSequence, e.g., `prompt | llm` instead.\n",
      "  warn_deprecated(\n",
      "/Users/joodithhermminal/projects/ai_softwares/langchain_components/venv/lib/python3.11/site-packages/langchain_core/_api/deprecation.py:151: LangChainDeprecationWarning: The method `Chain.run` was deprecated in langchain 0.1.0 and will be removed in 1.0. Use invoke instead.\n",
      "  warn_deprecated(\n"
     ]
    },
    {
     "data": {
      "text/plain": [
       "\"Here is the translation of the speech to French:\\n\\nJe ai trois visions pour l'Inde. Au fil des 3000 ans de notre histoire, des gens de tout le monde sont venus et nous ont envahis, capturés nos terres, conquis nos esprits. À partir d'Alexandre, les Grecs, les Turcs, les Mughals, les Portugais, les Britanniques, les Français et les Pays-Bas sont venus et nous ont pillés, ont pris ce qui était à nous. Pourtant, nous n'avons pas fait cela à d'autres nations. Nous n'avons pas conquis personne. Nous n'avons pas volé leurs terres, leur culture, leur histoire et nous n'avons pas essayé d'imposer notre manière de vivre sur eux. Pourquoi ? Parce que nous respectons la liberté des autres. C'est pourquoi ma première vision est la liberté.\\n\\nJe crois que l'Inde a eu sa première vision de cela en 1857, lors de la guerre d'indépendance. C'est cette liberté que nous devons protéger et nourrir et construire sur. Si nous ne sommes pas libres, personne ne nous respectera.\\n\\nMa seconde vision pour l'Inde est le développement. Pendant cinquante ans, nous avons été une nation en développement. Il est temps que nous voyions nous-mêmes comme une nation développée. Nous sommes parmi les cinq premières nations du monde en termes de PIB. Nous avons un taux de croissance de 10 pour cent dans la plupart des domaines. Nos niveaux de pauvreté diminuent. Nos réalisations sont reconnues à l'échelle mondiale aujourd'hui. Pourtant, nous manquons de confiance en nous-mêmes pour voir nous-mêmes comme une nation développée, autonome et assurée. N'est-ce pas incorrect ?\\n\\nJ'ai une troisième vision. L'Inde doit se dresser contre le monde. Car je crois que si l'Inde ne se dresse pas contre le monde, personne ne nous respectera. Seule la force respecte la force. Nous devons être forts non seulement comme puissance militaire, mais également comme puissance économique. Les deux doivent aller de pair.\\n\\nPourquoi la presse est-elle si négative ici ? Pourquoi sommes-nous en Inde si embarrassés de reconnaître nos propres forces, nos réalisations ? Nous sommes une nation si grande. Nous avons tant d'histoires de réussite incroyables, mais nous refusons de les reconnaître. Pourquoi ?\\n\\nNous sommes les premiers producteurs de lait. Nous sommes le premier en satellites d'observation spatiale. Nous sommes le deuxième producteur de blé. Nous sommes le deuxième producteur de riz. Regardez Dr. Sudarshan, il a transformé le village tribal en unité autosuffisante et autonome. Il y a des millions d'accomplissements comme cela, mais notre presse est obsédée par les mauvaises nouvelles et les échecs et les catastrophes. Pourquoi cette négativité ?\\n\\nJ'étais à Tel Aviv et j'étais en train de lire le journal israélien. C'était le jour suivant de nombreuses attaques et bombardements, et Hamas avait frappé, mais la première page du journal avait la photo d'un gentleman juif qui, en cinq ans, avait transformé sa terre déserte en une ferme d'agrumes. C'était cette photo inspirante que tout le monde se réveillait à voir. Les détails sanglants de meurtres, bombardements, décès étaient à l'intérieur du journal, enterrés parmi les autres nouvelles.\\n\\nEn Inde, nous nous contentons de lire des nouvelles de mort, de maladie, de terrorisme, de crime. Pourquoi sommes-nous si négatifs ? La presse nous ferait croire que nous sommes une nation de faillis. Mais en réalité, nous sommes une nation de réussite, les silencieux accomplis, les visionnaires, les acteurs, les rêveurs. C'est juste que nous avons oublié nos rêves.\\n\\nJe crois en la jeunesse. Vous êtes notre plus grande richesse. La jeunesse a le pouvoir de changer. Vous êtes notre avenir, et l'avenir est entre vos mains. Je veux que vous preniez en charge le défi de transformer l'Inde en une grande nation développée. N'arrêtez pas de rêver. N'abandonnez pas l'espoir. Travaillez dur et ne craignez jamais l'échec. Tant que vous croyez en vous-mêmes et dans vos rêves, rien n'est impossible. Vous êtes les leaders de demain. Rappellez-vous ce que je dis toujours : Rêvez, rêvez, rêvez. Les rêves se transforment en pensées et les pensées résultent en action.\\n\\nAlors, laissons-nous construire une nouvelle Inde, une Inde qui est libre, forte et développée. Chacun de vous a le pouvoir en vous pour façonner notre avenir. Rêvez grand, travaillez dur et plus important encore, ne cessez jamais de croire en vous-mêmes et dans vos rêves.\""
      ]
     },
     "execution_count": 19,
     "metadata": {},
     "output_type": "execute_result"
    }
   ],
   "source": [
    "llm_chain=LLMChain(llm=llm,prompt=prompt)\n",
    "summary=llm_chain.run({'speech':speech,'language':'French'})\n",
    "summary"
   ]
  },
  {
   "cell_type": "code",
   "execution_count": 21,
   "metadata": {},
   "outputs": [
    {
     "data": {
      "text/plain": [
       "[Document(metadata={'source': 'apjspeech.pdf', 'page': 0}, page_content='Following is the full text of the speech –  \\n“Dear sisters and brothers,  \\nI am pleased to be with you all to rel ease the book, “40 Years with Abdul Kalam-- \\nUntold Stories” written by his long-time close asso ciate Dr. Sivathanu Pillai.  \\nDr. Kalam was a true karma yogi and an in spiration to every In dian. He was truly a \\n“People’s President”, who endeared himsel f to every Indian, particularly the youth. \\nHe was an epitome of simplicity, h onesty and wisdom. Hi s contribution to \\nstrengthening India’s defence and sp ace capabilities is invaluable.  \\nI had many occasions to interact with Dr. Kalam when he was in DRDO and later \\nas the President of India an d every time I was struck by the depth of his knowledge \\nand his sincere desire to transform the lives of the common people.  \\nI would like to quote Shri AB Vajpayee ji on Dr. Kalam, when they were Prime \\nMinister and President respec tively: “After his election to the President of India, \\nDr. Kalam has brought immense grace to it, and also a new sense of purpose  that is \\nall his own. Place and position do not make  a man. A man is made of samskaras. \\nBesides discharging his constitutional resp onsibilities with dig nified quietude, Dr. \\nKalam made Rashtrapati Bhavan the karm abhoomi for his pet concerns, which are \\nalso the Nation’s major concerns-- issues  such as education, development of \\nScience and Technology, rural developme nt, and all-round development of our \\nchildren, who are the most precious asset.  From there he has been transmitting the \\ndream of how to make India a Developed Nation”.  \\nAs President, Dr Kalam personified dignity and optimism throughout India and \\nabroad. He was regarded in every country as a strong promoter of friendship and \\nknowledge. In recognit ion of his contributions , NASA had named a newly \\ndiscovered organism found on the International Space Station after Dr. Kalam in \\n2017.  \\nAt Rashtrapati Bhavan, Dr. Kalam had en couraged bio-diversity in the garden, \\nnurtured medicinal plants and created an herbal and \"spiritual\" garden, which \\nattracted thousands of visitors,  especially school children.  \\nThe former President always spoke of th e need for India to become a developed \\nnation given the vast natural resources a nd the talented pool of human resources in \\ndiverse fields. He was convinced that In dia has the potentia l as well as the \\ncapability to become a developed nation in the near future.  \\nIn fact, Dr. Kalam generated Vision for ea ch State in the form of Display Charts. \\nHe invited the MPs to the Rashtrapati Bh avan and explained to them the value, \\ncore competence and development schemes of their States. His biggest passion was \\nto motivate and inspire sc hool and college students to work with a passion for \\nnation-building activities.  '),\n",
       " Document(metadata={'source': 'apjspeech.pdf', 'page': 1}, page_content='With a median age of less than 30 years, In dia is among the youngest nations in an \\naging world. This youth energy should  be channelized positively for nation-\\nbuilding. I am sure that the recently launched New Educatio n Policy is a step in the \\nright direction and will help India train its students to meet the 21st century needs.  \\nAnother area that Dr. Kalam passionately ad vocated is the need to bridge the rural \\nand urban divide. His PURA model - Prov iding Urban Amenities in Rural Areas – \\nlaid emphasis on enhancing connectivity and building village clusters to spur \\neconomic development. Pradhan Mantri Gr am Sadak Yojana launched during then \\nPrime Minister Shri Atal Bihari Vajpayee’ s tenure and Bharat Net project being \\nsteered under the leadership of current Pr ime Minister, Shri Narendra Modi are two \\nvisionary programs aimed at connectin g our villages with the mainstream.  \\nThe pain of the exodus of migrant workers due to Covid-19 pandemic reminds us \\nof the need to create employment and econom ic opportunities in villages and small \\ntowns. For this, we will have to focus on  decentralized planni ng, capacity building \\nof local bodies and large scale promotion of cottage industries so that our villages \\nand towns emerge as growth centers.  \\nDr. Kalam established a unique place in the  hearts of Indians as the People’s \\nPresident. He was a staunch nationalist, an  inspiring orator and a prolific writer. \\nWhat made him an inspiring and much -loved leader was the human side of \\nKalam’s personality which touched so many lives.  \\nI strongly believe that the ultimate ai m of science and t echnology is to make \\npeople’s lives better. Once, during his vi sit to NIMS in Hyderabad, Dr. Kalam was \\nmoved to see polio-stricken children f acing difficulty in walking with heavy \\ncalipers made of leather, wood and steel.  Space scientist in him could instantly \\nvisualize how to cut the weight and make th ose prosthetic legs  lighter. Soon his \\nteam was able to reduce the weight of the  caliper from 3 kilogram to 300 grams by \\nusing advanced composite material used in rockets.  \\nLater on, Dr Kalam had commented, \"Whe n I see children run around and cycle \\nwith the artificial limbs we de signed, it is sheer bliss.\"  \\nNot only this, he also worked with cardi ologist Soma Raju, and developed a low-\\ncost coronary stent - the \\'Kalam-Raju Sten t\\'. He always wanted society to benefit \\nfrom the spinoffs of defence and space technologies.  \\nI am happy to note that during the ong oing Covid-19 pandem ic our scientific \\ncommunity has come up with many innova tions. India had zero production \\ncapacity for PPEs at the onset of the pande mic, but today we have emerged as the \\nsecond-largest producer of PPE  kits in the world. Cha llenges were many, but with \\na sustained push by the gove rnment, businesses and other stakeholders were able to \\nproduce over 5 lakh PPE kits per day. Today, we are in a position to export them to \\nseveral countries.  '),\n",
       " Document(metadata={'source': 'apjspeech.pdf', 'page': 2}, page_content='This story needs to be replicated in o ther fields to create a truly ‘Atmanirbhar \\nBharat’. This was Dr. Kalam’s dream and he  dedicated his entire life to make India \\nself-reliant in defence and space technologies.  \\nSimilar were his concerns for the environ ment. He repeatedly said that we have \\nonly one livable planet in our solar system . It is our duty to protect the earth and \\nleave a livable planet for our future generations. Even on his last day, while \\ndelivering his lecture — “Cre ating a Livable Planet Ear th” at IIM, Shillong, he \\ncautioned humanity of the harm we have inf licted on nature in our blind quest for \\ndevelopment.  \\nThis is the time to seriousl y follow Dr. Kalam’s sagacious advice and adopt a path \\nof development that is sustainable and environment friendly. Our scientists and \\nengineers should come out with innovative  technological soluti ons that are energy \\nefficient, clean and affordable.  \\nI am happy that Dr. Pillai has come out with the book ‘40 Years with Abdul \\nKalam’ providing a gripping, first-hand account of Dr. Kalam.  \\nThe life of Dr. Kalam sends a powerf ul message about how difficulties and \\nsetbacks when taken in the right spirit, se rve as the key ingredients in making us \\nrobust in character and mindset. Today’s generation should draw inspiration from \\nhim and dedicatedly work towards building a strong, self-reliant and inclusive \\nIndia.  \\nLike Dr. Kalam the youth should think out of the box and use technology for \\nproviding solutions to the various economic and societal challenges that impact \\nlarge sections of India’s population.  \\nIt is also important as a Nation to be se lf-reliant in strategic in dustries. The book \\ndescribes how Atmanirbhar Bharat can be realized in the industrial sector.  \\nI am very happy to note that the late Sh ri Pranab Mukherjee, former President of \\nIndia wrote the Foreword of this book. Dr. Pillai as the architect of India’s \\nSupersonic Cruise Missile Program – BrahMos has himself made immense \\ncontributions to India’s Defence and Aero space capability. I wish him all the very \\nbest in his future endeavors.  \\nThank you.  \\nJai Hind!”  \\n*****  \\nMS/DP  \\n\\xa0')]"
      ]
     },
     "execution_count": 21,
     "metadata": {},
     "output_type": "execute_result"
    }
   ],
   "source": [
    "from langchain_community.document_loaders import PyPDFLoader\n",
    "\n",
    "loader=PyPDFLoader(\"apjspeech.pdf\")\n",
    "docs=loader.load()\n",
    "docs"
   ]
  },
  {
   "cell_type": "code",
   "execution_count": 30,
   "metadata": {},
   "outputs": [],
   "source": [
    "prompt_template=\"\"\"\n",
    "Give the concise summary of the following speech:\n",
    "Speech: {text}\n",
    "\"\"\"\n",
    "prompt=PromptTemplate(\n",
    "    input_variables=[\"text\"],\n",
    "    template=prompt_template\n",
    ")"
   ]
  },
  {
   "cell_type": "code",
   "execution_count": 31,
   "metadata": {},
   "outputs": [],
   "source": [
    "from langchain.chains.summarize import load_summarize_chain"
   ]
  },
  {
   "cell_type": "markdown",
   "metadata": {},
   "source": [
    "**Stuff summarisation**"
   ]
  },
  {
   "cell_type": "code",
   "execution_count": 32,
   "metadata": {},
   "outputs": [
    {
     "name": "stdout",
     "output_type": "stream",
     "text": [
      "\n",
      "\n",
      "\u001b[1m> Entering new StuffDocumentsChain chain...\u001b[0m\n",
      "\n",
      "\n",
      "\u001b[1m> Entering new LLMChain chain...\u001b[0m\n",
      "Prompt after formatting:\n",
      "\u001b[32;1m\u001b[1;3m\n",
      "Give the concise summary of the following speech:\n",
      "Speech: Following is the full text of the speech –  \n",
      "“Dear sisters and brothers,  \n",
      "I am pleased to be with you all to rel ease the book, “40 Years with Abdul Kalam-- \n",
      "Untold Stories” written by his long-time close asso ciate Dr. Sivathanu Pillai.  \n",
      "Dr. Kalam was a true karma yogi and an in spiration to every In dian. He was truly a \n",
      "“People’s President”, who endeared himsel f to every Indian, particularly the youth. \n",
      "He was an epitome of simplicity, h onesty and wisdom. Hi s contribution to \n",
      "strengthening India’s defence and sp ace capabilities is invaluable.  \n",
      "I had many occasions to interact with Dr. Kalam when he was in DRDO and later \n",
      "as the President of India an d every time I was struck by the depth of his knowledge \n",
      "and his sincere desire to transform the lives of the common people.  \n",
      "I would like to quote Shri AB Vajpayee ji on Dr. Kalam, when they were Prime \n",
      "Minister and President respec tively: “After his election to the President of India, \n",
      "Dr. Kalam has brought immense grace to it, and also a new sense of purpose  that is \n",
      "all his own. Place and position do not make  a man. A man is made of samskaras. \n",
      "Besides discharging his constitutional resp onsibilities with dig nified quietude, Dr. \n",
      "Kalam made Rashtrapati Bhavan the karm abhoomi for his pet concerns, which are \n",
      "also the Nation’s major concerns-- issues  such as education, development of \n",
      "Science and Technology, rural developme nt, and all-round development of our \n",
      "children, who are the most precious asset.  From there he has been transmitting the \n",
      "dream of how to make India a Developed Nation”.  \n",
      "As President, Dr Kalam personified dignity and optimism throughout India and \n",
      "abroad. He was regarded in every country as a strong promoter of friendship and \n",
      "knowledge. In recognit ion of his contributions , NASA had named a newly \n",
      "discovered organism found on the International Space Station after Dr. Kalam in \n",
      "2017.  \n",
      "At Rashtrapati Bhavan, Dr. Kalam had en couraged bio-diversity in the garden, \n",
      "nurtured medicinal plants and created an herbal and \"spiritual\" garden, which \n",
      "attracted thousands of visitors,  especially school children.  \n",
      "The former President always spoke of th e need for India to become a developed \n",
      "nation given the vast natural resources a nd the talented pool of human resources in \n",
      "diverse fields. He was convinced that In dia has the potentia l as well as the \n",
      "capability to become a developed nation in the near future.  \n",
      "In fact, Dr. Kalam generated Vision for ea ch State in the form of Display Charts. \n",
      "He invited the MPs to the Rashtrapati Bh avan and explained to them the value, \n",
      "core competence and development schemes of their States. His biggest passion was \n",
      "to motivate and inspire sc hool and college students to work with a passion for \n",
      "nation-building activities.  \n",
      "\n",
      "With a median age of less than 30 years, In dia is among the youngest nations in an \n",
      "aging world. This youth energy should  be channelized positively for nation-\n",
      "building. I am sure that the recently launched New Educatio n Policy is a step in the \n",
      "right direction and will help India train its students to meet the 21st century needs.  \n",
      "Another area that Dr. Kalam passionately ad vocated is the need to bridge the rural \n",
      "and urban divide. His PURA model - Prov iding Urban Amenities in Rural Areas – \n",
      "laid emphasis on enhancing connectivity and building village clusters to spur \n",
      "economic development. Pradhan Mantri Gr am Sadak Yojana launched during then \n",
      "Prime Minister Shri Atal Bihari Vajpayee’ s tenure and Bharat Net project being \n",
      "steered under the leadership of current Pr ime Minister, Shri Narendra Modi are two \n",
      "visionary programs aimed at connectin g our villages with the mainstream.  \n",
      "The pain of the exodus of migrant workers due to Covid-19 pandemic reminds us \n",
      "of the need to create employment and econom ic opportunities in villages and small \n",
      "towns. For this, we will have to focus on  decentralized planni ng, capacity building \n",
      "of local bodies and large scale promotion of cottage industries so that our villages \n",
      "and towns emerge as growth centers.  \n",
      "Dr. Kalam established a unique place in the  hearts of Indians as the People’s \n",
      "President. He was a staunch nationalist, an  inspiring orator and a prolific writer. \n",
      "What made him an inspiring and much -loved leader was the human side of \n",
      "Kalam’s personality which touched so many lives.  \n",
      "I strongly believe that the ultimate ai m of science and t echnology is to make \n",
      "people’s lives better. Once, during his vi sit to NIMS in Hyderabad, Dr. Kalam was \n",
      "moved to see polio-stricken children f acing difficulty in walking with heavy \n",
      "calipers made of leather, wood and steel.  Space scientist in him could instantly \n",
      "visualize how to cut the weight and make th ose prosthetic legs  lighter. Soon his \n",
      "team was able to reduce the weight of the  caliper from 3 kilogram to 300 grams by \n",
      "using advanced composite material used in rockets.  \n",
      "Later on, Dr Kalam had commented, \"Whe n I see children run around and cycle \n",
      "with the artificial limbs we de signed, it is sheer bliss.\"  \n",
      "Not only this, he also worked with cardi ologist Soma Raju, and developed a low-\n",
      "cost coronary stent - the 'Kalam-Raju Sten t'. He always wanted society to benefit \n",
      "from the spinoffs of defence and space technologies.  \n",
      "I am happy to note that during the ong oing Covid-19 pandem ic our scientific \n",
      "community has come up with many innova tions. India had zero production \n",
      "capacity for PPEs at the onset of the pande mic, but today we have emerged as the \n",
      "second-largest producer of PPE  kits in the world. Cha llenges were many, but with \n",
      "a sustained push by the gove rnment, businesses and other stakeholders were able to \n",
      "produce over 5 lakh PPE kits per day. Today, we are in a position to export them to \n",
      "several countries.  \n",
      "\n",
      "This story needs to be replicated in o ther fields to create a truly ‘Atmanirbhar \n",
      "Bharat’. This was Dr. Kalam’s dream and he  dedicated his entire life to make India \n",
      "self-reliant in defence and space technologies.  \n",
      "Similar were his concerns for the environ ment. He repeatedly said that we have \n",
      "only one livable planet in our solar system . It is our duty to protect the earth and \n",
      "leave a livable planet for our future generations. Even on his last day, while \n",
      "delivering his lecture — “Cre ating a Livable Planet Ear th” at IIM, Shillong, he \n",
      "cautioned humanity of the harm we have inf licted on nature in our blind quest for \n",
      "development.  \n",
      "This is the time to seriousl y follow Dr. Kalam’s sagacious advice and adopt a path \n",
      "of development that is sustainable and environment friendly. Our scientists and \n",
      "engineers should come out with innovative  technological soluti ons that are energy \n",
      "efficient, clean and affordable.  \n",
      "I am happy that Dr. Pillai has come out with the book ‘40 Years with Abdul \n",
      "Kalam’ providing a gripping, first-hand account of Dr. Kalam.  \n",
      "The life of Dr. Kalam sends a powerf ul message about how difficulties and \n",
      "setbacks when taken in the right spirit, se rve as the key ingredients in making us \n",
      "robust in character and mindset. Today’s generation should draw inspiration from \n",
      "him and dedicatedly work towards building a strong, self-reliant and inclusive \n",
      "India.  \n",
      "Like Dr. Kalam the youth should think out of the box and use technology for \n",
      "providing solutions to the various economic and societal challenges that impact \n",
      "large sections of India’s population.  \n",
      "It is also important as a Nation to be se lf-reliant in strategic in dustries. The book \n",
      "describes how Atmanirbhar Bharat can be realized in the industrial sector.  \n",
      "I am very happy to note that the late Sh ri Pranab Mukherjee, former President of \n",
      "India wrote the Foreword of this book. Dr. Pillai as the architect of India’s \n",
      "Supersonic Cruise Missile Program – BrahMos has himself made immense \n",
      "contributions to India’s Defence and Aero space capability. I wish him all the very \n",
      "best in his future endeavors.  \n",
      "Thank you.  \n",
      "Jai Hind!”  \n",
      "*****  \n",
      "MS/DP  \n",
      " \n",
      "\u001b[0m\n",
      "\n",
      "\u001b[1m> Finished chain.\u001b[0m\n",
      "\n",
      "\u001b[1m> Finished chain.\u001b[0m\n"
     ]
    },
    {
     "data": {
      "text/plain": [
       "'Here is a concise summary of the speech:\\n\\nThe speaker, likely a government official, releases a book \"40 Years with Abdul Kalam-- Untold Stories\" written by Dr. Sivathanu Pillai, a close associate of Dr. Kalam. The speaker praises Dr. Kalam as a true karma yogi, an inspiration to every Indian, and a true \"People\\'s President\". He highlights Dr. Kalam\\'s contributions to India\\'s defense and space capabilities, as well as his passion for education, rural development, and bridging the urban-rural divide. The speaker also mentions Dr. Kalam\\'s focus on making India self-reliant in defense and space technologies, and his concerns for the environment. He concludes by urging the youth to draw inspiration from Dr. Kalam\\'s life and work towards building a strong, self-reliant, and inclusive India.'"
      ]
     },
     "execution_count": 32,
     "metadata": {},
     "output_type": "execute_result"
    }
   ],
   "source": [
    "chain=load_summarize_chain(llm,chain_type='stuff',prompt=prompt,verbose=True)\n",
    "summary=chain.run(docs)\n",
    "summary"
   ]
  },
  {
   "cell_type": "code",
   "execution_count": 34,
   "metadata": {},
   "outputs": [
    {
     "data": {
      "text/plain": [
       "11"
      ]
     },
     "execution_count": 34,
     "metadata": {},
     "output_type": "execute_result"
    }
   ],
   "source": [
    "from langchain_text_splitters import RecursiveCharacterTextSplitter\n",
    "final_documents=RecursiveCharacterTextSplitter(chunk_size=1000,chunk_overlap=100).split_documents(docs)\n",
    "len(final_documents)"
   ]
  },
  {
   "cell_type": "code",
   "execution_count": 35,
   "metadata": {},
   "outputs": [],
   "source": [
    "chunk_prompt=\"\"\"\n",
    "Summarise the below speech:\n",
    "Speech: {text}\n",
    "\"\"\"\n",
    "\n",
    "map_prompt_template=PromptTemplate(\n",
    "    input_variables=[\"text\"],\n",
    "    template=chunk_prompt\n",
    ")"
   ]
  },
  {
   "cell_type": "code",
   "execution_count": 41,
   "metadata": {},
   "outputs": [
    {
     "data": {
      "text/plain": [
       "PromptTemplate(input_variables=['text'], template='\\nProvide the summary of the entire speech with these important points:\\nAdd motivating title to the summary with an introduction and provide the summary as number of points\\nSpeech: {text}\\n')"
      ]
     },
     "execution_count": 41,
     "metadata": {},
     "output_type": "execute_result"
    }
   ],
   "source": [
    "final_prompt=\"\"\"\n",
    "Provide the summary of the entire speech with these important points:\n",
    "Add motivating title to the summary with an introduction and provide the summary as number of points\n",
    "Speech: {text}\n",
    "\"\"\"\n",
    "final_prompt_template=PromptTemplate(\n",
    "    input_variables=[\"text\"],\n",
    "    template=final_prompt\n",
    ")\n",
    "final_prompt_template\n"
   ]
  },
  {
   "cell_type": "markdown",
   "metadata": {},
   "source": [
    "**Map Reduce summarisation**"
   ]
  },
  {
   "cell_type": "code",
   "execution_count": 50,
   "metadata": {},
   "outputs": [
    {
     "name": "stderr",
     "output_type": "stream",
     "text": [
      "Token indices sequence length is longer than the specified maximum sequence length for this model (1040 > 1024). Running this sequence through the model will result in indexing errors\n"
     ]
    }
   ],
   "source": [
    "\n",
    "map_reduce_chain = load_summarize_chain(\n",
    "    llm,\n",
    "    chain_type=\"map_reduce\",\n",
    "    map_prompt=map_prompt_template,\n",
    "    combine_prompt=final_prompt_template,\n",
    "    return_intermediate_steps=True,\n",
    ")\n",
    "summary=map_reduce_chain({\"input_documents\": final_documents})"
   ]
  },
  {
   "cell_type": "code",
   "execution_count": 51,
   "metadata": {},
   "outputs": [
    {
     "data": {
      "text/plain": [
       "{'input_documents': [Document(metadata={'source': 'apjspeech.pdf', 'page': 0}, page_content='Following is the full text of the speech –  \\n“Dear sisters and brothers,  \\nI am pleased to be with you all to rel ease the book, “40 Years with Abdul Kalam-- \\nUntold Stories” written by his long-time close asso ciate Dr. Sivathanu Pillai.  \\nDr. Kalam was a true karma yogi and an in spiration to every In dian. He was truly a \\n“People’s President”, who endeared himsel f to every Indian, particularly the youth. \\nHe was an epitome of simplicity, h onesty and wisdom. Hi s contribution to \\nstrengthening India’s defence and sp ace capabilities is invaluable.  \\nI had many occasions to interact with Dr. Kalam when he was in DRDO and later \\nas the President of India an d every time I was struck by the depth of his knowledge \\nand his sincere desire to transform the lives of the common people.  \\nI would like to quote Shri AB Vajpayee ji on Dr. Kalam, when they were Prime \\nMinister and President respec tively: “After his election to the President of India,'),\n",
       "  Document(metadata={'source': 'apjspeech.pdf', 'page': 0}, page_content='Minister and President respec tively: “After his election to the President of India, \\nDr. Kalam has brought immense grace to it, and also a new sense of purpose  that is \\nall his own. Place and position do not make  a man. A man is made of samskaras. \\nBesides discharging his constitutional resp onsibilities with dig nified quietude, Dr. \\nKalam made Rashtrapati Bhavan the karm abhoomi for his pet concerns, which are \\nalso the Nation’s major concerns-- issues  such as education, development of \\nScience and Technology, rural developme nt, and all-round development of our \\nchildren, who are the most precious asset.  From there he has been transmitting the \\ndream of how to make India a Developed Nation”.  \\nAs President, Dr Kalam personified dignity and optimism throughout India and \\nabroad. He was regarded in every country as a strong promoter of friendship and \\nknowledge. In recognit ion of his contributions , NASA had named a newly'),\n",
       "  Document(metadata={'source': 'apjspeech.pdf', 'page': 0}, page_content='knowledge. In recognit ion of his contributions , NASA had named a newly \\ndiscovered organism found on the International Space Station after Dr. Kalam in \\n2017.  \\nAt Rashtrapati Bhavan, Dr. Kalam had en couraged bio-diversity in the garden, \\nnurtured medicinal plants and created an herbal and \"spiritual\" garden, which \\nattracted thousands of visitors,  especially school children.  \\nThe former President always spoke of th e need for India to become a developed \\nnation given the vast natural resources a nd the talented pool of human resources in \\ndiverse fields. He was convinced that In dia has the potentia l as well as the \\ncapability to become a developed nation in the near future.  \\nIn fact, Dr. Kalam generated Vision for ea ch State in the form of Display Charts. \\nHe invited the MPs to the Rashtrapati Bh avan and explained to them the value, \\ncore competence and development schemes of their States. His biggest passion was'),\n",
       "  Document(metadata={'source': 'apjspeech.pdf', 'page': 0}, page_content='core competence and development schemes of their States. His biggest passion was \\nto motivate and inspire sc hool and college students to work with a passion for \\nnation-building activities.'),\n",
       "  Document(metadata={'source': 'apjspeech.pdf', 'page': 1}, page_content='With a median age of less than 30 years, In dia is among the youngest nations in an \\naging world. This youth energy should  be channelized positively for nation-\\nbuilding. I am sure that the recently launched New Educatio n Policy is a step in the \\nright direction and will help India train its students to meet the 21st century needs.  \\nAnother area that Dr. Kalam passionately ad vocated is the need to bridge the rural \\nand urban divide. His PURA model - Prov iding Urban Amenities in Rural Areas – \\nlaid emphasis on enhancing connectivity and building village clusters to spur \\neconomic development. Pradhan Mantri Gr am Sadak Yojana launched during then \\nPrime Minister Shri Atal Bihari Vajpayee’ s tenure and Bharat Net project being \\nsteered under the leadership of current Pr ime Minister, Shri Narendra Modi are two \\nvisionary programs aimed at connectin g our villages with the mainstream.  \\nThe pain of the exodus of migrant workers due to Covid-19 pandemic reminds us'),\n",
       "  Document(metadata={'source': 'apjspeech.pdf', 'page': 1}, page_content='The pain of the exodus of migrant workers due to Covid-19 pandemic reminds us \\nof the need to create employment and econom ic opportunities in villages and small \\ntowns. For this, we will have to focus on  decentralized planni ng, capacity building \\nof local bodies and large scale promotion of cottage industries so that our villages \\nand towns emerge as growth centers.  \\nDr. Kalam established a unique place in the  hearts of Indians as the People’s \\nPresident. He was a staunch nationalist, an  inspiring orator and a prolific writer. \\nWhat made him an inspiring and much -loved leader was the human side of \\nKalam’s personality which touched so many lives.  \\nI strongly believe that the ultimate ai m of science and t echnology is to make \\npeople’s lives better. Once, during his vi sit to NIMS in Hyderabad, Dr. Kalam was \\nmoved to see polio-stricken children f acing difficulty in walking with heavy \\ncalipers made of leather, wood and steel.  Space scientist in him could instantly'),\n",
       "  Document(metadata={'source': 'apjspeech.pdf', 'page': 1}, page_content='calipers made of leather, wood and steel.  Space scientist in him could instantly \\nvisualize how to cut the weight and make th ose prosthetic legs  lighter. Soon his \\nteam was able to reduce the weight of the  caliper from 3 kilogram to 300 grams by \\nusing advanced composite material used in rockets.  \\nLater on, Dr Kalam had commented, \"Whe n I see children run around and cycle \\nwith the artificial limbs we de signed, it is sheer bliss.\"  \\nNot only this, he also worked with cardi ologist Soma Raju, and developed a low-\\ncost coronary stent - the \\'Kalam-Raju Sten t\\'. He always wanted society to benefit \\nfrom the spinoffs of defence and space technologies.  \\nI am happy to note that during the ong oing Covid-19 pandem ic our scientific \\ncommunity has come up with many innova tions. India had zero production \\ncapacity for PPEs at the onset of the pande mic, but today we have emerged as the \\nsecond-largest producer of PPE  kits in the world. Cha llenges were many, but with'),\n",
       "  Document(metadata={'source': 'apjspeech.pdf', 'page': 1}, page_content='second-largest producer of PPE  kits in the world. Cha llenges were many, but with \\na sustained push by the gove rnment, businesses and other stakeholders were able to \\nproduce over 5 lakh PPE kits per day. Today, we are in a position to export them to \\nseveral countries.'),\n",
       "  Document(metadata={'source': 'apjspeech.pdf', 'page': 2}, page_content='This story needs to be replicated in o ther fields to create a truly ‘Atmanirbhar \\nBharat’. This was Dr. Kalam’s dream and he  dedicated his entire life to make India \\nself-reliant in defence and space technologies.  \\nSimilar were his concerns for the environ ment. He repeatedly said that we have \\nonly one livable planet in our solar system . It is our duty to protect the earth and \\nleave a livable planet for our future generations. Even on his last day, while \\ndelivering his lecture — “Cre ating a Livable Planet Ear th” at IIM, Shillong, he \\ncautioned humanity of the harm we have inf licted on nature in our blind quest for \\ndevelopment.  \\nThis is the time to seriousl y follow Dr. Kalam’s sagacious advice and adopt a path \\nof development that is sustainable and environment friendly. Our scientists and \\nengineers should come out with innovative  technological soluti ons that are energy \\nefficient, clean and affordable.'),\n",
       "  Document(metadata={'source': 'apjspeech.pdf', 'page': 2}, page_content='efficient, clean and affordable.  \\nI am happy that Dr. Pillai has come out with the book ‘40 Years with Abdul \\nKalam’ providing a gripping, first-hand account of Dr. Kalam.  \\nThe life of Dr. Kalam sends a powerf ul message about how difficulties and \\nsetbacks when taken in the right spirit, se rve as the key ingredients in making us \\nrobust in character and mindset. Today’s generation should draw inspiration from \\nhim and dedicatedly work towards building a strong, self-reliant and inclusive \\nIndia.  \\nLike Dr. Kalam the youth should think out of the box and use technology for \\nproviding solutions to the various economic and societal challenges that impact \\nlarge sections of India’s population.  \\nIt is also important as a Nation to be se lf-reliant in strategic in dustries. The book \\ndescribes how Atmanirbhar Bharat can be realized in the industrial sector.  \\nI am very happy to note that the late Sh ri Pranab Mukherjee, former President of'),\n",
       "  Document(metadata={'source': 'apjspeech.pdf', 'page': 2}, page_content='I am very happy to note that the late Sh ri Pranab Mukherjee, former President of \\nIndia wrote the Foreword of this book. Dr. Pillai as the architect of India’s \\nSupersonic Cruise Missile Program – BrahMos has himself made immense \\ncontributions to India’s Defence and Aero space capability. I wish him all the very \\nbest in his future endeavors.  \\nThank you.  \\nJai Hind!”  \\n*****  \\nMS/DP')],\n",
       " 'intermediate_steps': ['Here is a concise summary of the speech:\\n\\nThe speaker is releasing a book about Dr. Abdul Kalam, who was a \"People\\'s President\" and an inspiration to every Indian, particularly the youth. Dr. Kalam was a true karma yogi, epitomizing simplicity, honesty, and wisdom. He made significant contributions to India\\'s defense and space capabilities. The speaker has interacted with Dr. Kalam on several occasions and was impressed by his knowledge and desire to transform lives.',\n",
       "  \"Here is a concise summary of the speech:\\n\\nThe Minister and President praise Dr. Kalam's presidency, saying he brought dignity and purpose to the office. Despite his position, Dr. Kalam focused on his pet concerns, such as education, science, rural development, and children's development, and transmitted his vision for a developed India. As President, Dr. Kalam was known for his dignity, optimism, and promotion of friendship and knowledge, earning international recognition, including a naming honor from NASA.\",\n",
       "  'Here is a concise summary of the speech:\\n\\nDr. Kalam\\'s contributions were recognized by NASA, who named a newly discovered organism on the International Space Station after him. He also created a herbal and \"spiritual\" garden at Rashtrapati Bhavan, which attracted thousands of visitors, especially school children. Dr. Kalam emphasized the need for India to become a developed nation, leveraging its natural resources and human talent. He also created \"Vision for each State\" display charts and passionately worked to develop and promote his home state\\'s core competence and development schemes.',\n",
       "  'The speaker\\'s main focus was on emphasizing the importance of \"core competence and development schemes\" in states. Additionally, he was passionate about motivating and inspiring students in schools and colleges to participate in nation-building activities with enthusiasm.',\n",
       "  \"The speech highlights India's demographic advantage with a median age of under 30 and the need to channelize this youth energy positively for nation-building. The New Education Policy is seen as a step in the right direction to train students for the 21st century. The speech also emphasizes the importance of bridging the rural-urban divide, referencing Dr. Kalam's PURA model and government initiatives such as Pradhan Mantri Gram Sadak Yojana and Bharat Net to connect rural areas with the mainstream. The speech concludes by mentioning the pain of the migrant worker exodus during the COVID-19 pandemic and the need to build a more connected and equitable society.\",\n",
       "  \"Here is a concise summary of the speech:\\n\\nThe speaker reflects on the pain of migrant workers during the COVID-19 pandemic, highlighting the need to create employment and economic opportunities in villages and small towns. To achieve this, they propose decentralized planning, capacity building of local bodies, and large-scale promotion of cottage industries. The speaker also pays tribute to Dr. A.P.J. Abdul Kalam, describing him as a people's president, inspiring orator, and prolific writer who touched many lives.\",\n",
       "  'Here is a concise summary of the speech:\\n\\nDr. Kalam, a space scientist, reduced the weight of prosthetic leg calipers from 3kg to 300g using advanced composite materials. He also developed a low-cost coronary stent with a cardiologist. Dr. Kalam believed that society should benefit from spinoffs of defense and space technologies. He highlighted the innovative efforts of the Indian scientific community during the COVID-19 pandemic, including becoming the second-largest producer of PPE kits in the world.',\n",
       "  'The country, a second-largest producer of PPE kits, faced numerous challenges. However, through a concerted effort by the government, businesses, and stakeholders, they were able to produce over 5 lakh PPE kits daily, making them a significant exporter to multiple countries.',\n",
       "  \"The speech emphasizes the importance of replicating India's success in defense and space technologies in other fields to achieve self-reliance, as per Dr. Kalam's dream. It also highlights Dr. Kalam's concerns about environmental protection, urging humanity to adopt sustainable and environmentally-friendly development practices.\",\n",
       "  'Here is a concise summary of the speech:\\n\\nThe speaker praises Dr. Pillai\\'s book \"40 Years with Abdul Kalam\" and Dr. Kalam\\'s life, which inspires resilience and self-reliance. The speaker encourages today\\'s youth to think creatively, use technology to solve societal challenges, and work towards building a strong, inclusive India. The book also highlights the importance of India\\'s self-reliance in strategic industries, such as Atmanirbhar Bharat.',\n",
       "  \"The speaker is expressing gratitude for the contributions of Dr. Pillai, the architect of India's Supersonic Cruise Missile Program - BrahMos, to India's defense and aerospace capabilities. They also mention that the late President Pranab Mukherjee wrote the foreword for a book.\"],\n",
       " 'output_text': '**\"Inspiring India: The Vision of Dr. Abdul Kalam\"**\\n\\n**Introduction**\\n\\nThe speech is a tribute to Dr. Abdul Kalam, the \"People\\'s President\" of India, who was an inspiration to every Indian, particularly the youth. The speaker shares their personal interactions with Dr. Kalam and highlights his contributions to India\\'s defense and space capabilities.\\n\\n**Summary**\\n\\n1. **Dr. Kalam\\'s Legacy**: Dr. Kalam was a true karma yogi, epitomizing simplicity, honesty, and wisdom. He brought dignity and purpose to the office of the President, focusing on education, science, rural development, and children\\'s development.\\n2. **International Recognition**: Dr. Kalam was recognized by NASA, who named a newly discovered organism on the International Space Station after him. He also created a herbal and \"spiritual\" garden at Rashtrapati Bhavan, which attracted thousands of visitors, especially school children.\\n3. **Vision for India**: Dr. Kalam emphasized the need for India to become a developed nation, leveraging its natural resources and human talent. He created \"Vision for each State\" display charts and passionately worked to develop and promote his home state\\'s core competence and development schemes.\\n4. **Importance of Core Competence**: The speaker highlights the importance of \"core competence and development schemes\" in states, emphasizing the need to channelize the energy of India\\'s young population positively for nation-building.\\n5. **New Education Policy**: The speaker sees the New Education Policy as a step in the right direction to train students for the 21st century, urging students to participate in nation-building activities with enthusiasm.\\n6. **Bridging the Rural-Urban Divide**: The speech emphasizes the importance of bridging the rural-urban divide, referencing Dr. Kalam\\'s PURA model and government initiatives such as Pradhan Mantri Gram Sadak Yojana and Bharat Net to connect rural areas with the mainstream.\\n7. **Migrant Worker Exodus**: The speaker reflects on the pain of the migrant worker exodus during the COVID-19 pandemic, highlighting the need to create employment and economic opportunities in villages and small towns.\\n8. **Dr. Kalam\\'s Innovations**: Dr. Kalam, a space scientist, reduced the weight of prosthetic leg calipers from 3kg to 300g using advanced composite materials. He also developed a low-cost coronary stent with a cardiologist.\\n9. **India\\'s Success in Defense and Space Technologies**: The speech emphasizes the importance of replicating India\\'s success in defense and space technologies in other fields to achieve self-reliance, as per Dr. Kalam\\'s dream.\\n10. **Inspiring the Youth**: The speaker encourages today\\'s youth to think creatively, use technology to solve societal challenges, and work towards building a strong, inclusive India.\\n\\n**Conclusion**\\n\\nThe speech concludes by emphasizing the importance of India\\'s self-reliance in strategic industries, such as Atmanirbhar Bharat, and expressing gratitude for the contributions of Dr. Pillai, the architect of India\\'s Supersonic Cruise Missile Program - BrahMos, to India\\'s defense and aerospace capabilities.'}"
      ]
     },
     "execution_count": 51,
     "metadata": {},
     "output_type": "execute_result"
    }
   ],
   "source": [
    "summary"
   ]
  },
  {
   "cell_type": "markdown",
   "metadata": {},
   "source": [
    "**Refine summarisation**"
   ]
  },
  {
   "cell_type": "code",
   "execution_count": 44,
   "metadata": {},
   "outputs": [
    {
     "name": "stderr",
     "output_type": "stream",
     "text": [
      "/Users/joodithhermminal/projects/ai_softwares/langchain_components/venv/lib/python3.11/site-packages/langchain_core/_api/deprecation.py:151: LangChainDeprecationWarning: The method `Chain.__call__` was deprecated in langchain 0.1.0 and will be removed in 1.0. Use invoke instead.\n",
      "  warn_deprecated(\n"
     ]
    },
    {
     "name": "stdout",
     "output_type": "stream",
     "text": [
      "\n",
      "\n",
      "\u001b[1m> Entering new RefineDocumentsChain chain...\u001b[0m\n",
      "\n",
      "\n",
      "\u001b[1m> Entering new LLMChain chain...\u001b[0m\n",
      "Prompt after formatting:\n",
      "\u001b[32;1m\u001b[1;3m\n",
      "Summarise the below speech in a concise manner:\n",
      "Speech: Following is the full text of the speech –  \n",
      "“Dear sisters and brothers,  \n",
      "I am pleased to be with you all to rel ease the book, “40 Years with Abdul Kalam-- \n",
      "Untold Stories” written by his long-time close asso ciate Dr. Sivathanu Pillai.  \n",
      "Dr. Kalam was a true karma yogi and an in spiration to every In dian. He was truly a \n",
      "“People’s President”, who endeared himsel f to every Indian, particularly the youth. \n",
      "He was an epitome of simplicity, h onesty and wisdom. Hi s contribution to \n",
      "strengthening India’s defence and sp ace capabilities is invaluable.  \n",
      "I had many occasions to interact with Dr. Kalam when he was in DRDO and later \n",
      "as the President of India an d every time I was struck by the depth of his knowledge \n",
      "and his sincere desire to transform the lives of the common people.  \n",
      "I would like to quote Shri AB Vajpayee ji on Dr. Kalam, when they were Prime \n",
      "Minister and President respec tively: “After his election to the President of India,\n",
      "\u001b[0m\n",
      "\n",
      "\u001b[1m> Finished chain.\u001b[0m\n",
      "\n",
      "\n",
      "\u001b[1m> Entering new LLMChain chain...\u001b[0m\n",
      "Prompt after formatting:\n",
      "\u001b[32;1m\u001b[1;3m\n",
      "Provide the summary of the entire speech with these important points:\n",
      "Add motivating title to the summary with an introduction and provide the summary as number of points\n",
      "Speech: Minister and President respec tively: “After his election to the President of India, \n",
      "Dr. Kalam has brought immense grace to it, and also a new sense of purpose  that is \n",
      "all his own. Place and position do not make  a man. A man is made of samskaras. \n",
      "Besides discharging his constitutional resp onsibilities with dig nified quietude, Dr. \n",
      "Kalam made Rashtrapati Bhavan the karm abhoomi for his pet concerns, which are \n",
      "also the Nation’s major concerns-- issues  such as education, development of \n",
      "Science and Technology, rural developme nt, and all-round development of our \n",
      "children, who are the most precious asset.  From there he has been transmitting the \n",
      "dream of how to make India a Developed Nation”.  \n",
      "As President, Dr Kalam personified dignity and optimism throughout India and \n",
      "abroad. He was regarded in every country as a strong promoter of friendship and \n",
      "knowledge. In recognit ion of his contributions , NASA had named a newly\n",
      "\u001b[0m\n",
      "\n",
      "\u001b[1m> Finished chain.\u001b[0m\n",
      "\n",
      "\n",
      "\u001b[1m> Entering new LLMChain chain...\u001b[0m\n",
      "Prompt after formatting:\n",
      "\u001b[32;1m\u001b[1;3m\n",
      "Provide the summary of the entire speech with these important points:\n",
      "Add motivating title to the summary with an introduction and provide the summary as number of points\n",
      "Speech: knowledge. In recognit ion of his contributions , NASA had named a newly \n",
      "discovered organism found on the International Space Station after Dr. Kalam in \n",
      "2017.  \n",
      "At Rashtrapati Bhavan, Dr. Kalam had en couraged bio-diversity in the garden, \n",
      "nurtured medicinal plants and created an herbal and \"spiritual\" garden, which \n",
      "attracted thousands of visitors,  especially school children.  \n",
      "The former President always spoke of th e need for India to become a developed \n",
      "nation given the vast natural resources a nd the talented pool of human resources in \n",
      "diverse fields. He was convinced that In dia has the potentia l as well as the \n",
      "capability to become a developed nation in the near future.  \n",
      "In fact, Dr. Kalam generated Vision for ea ch State in the form of Display Charts. \n",
      "He invited the MPs to the Rashtrapati Bh avan and explained to them the value, \n",
      "core competence and development schemes of their States. His biggest passion was\n",
      "\u001b[0m\n",
      "\n",
      "\u001b[1m> Finished chain.\u001b[0m\n",
      "\n",
      "\n",
      "\u001b[1m> Entering new LLMChain chain...\u001b[0m\n",
      "Prompt after formatting:\n",
      "\u001b[32;1m\u001b[1;3m\n",
      "Provide the summary of the entire speech with these important points:\n",
      "Add motivating title to the summary with an introduction and provide the summary as number of points\n",
      "Speech: core competence and development schemes of their States. His biggest passion was \n",
      "to motivate and inspire sc hool and college students to work with a passion for \n",
      "nation-building activities.\n",
      "\u001b[0m\n",
      "\n",
      "\u001b[1m> Finished chain.\u001b[0m\n",
      "\n",
      "\n",
      "\u001b[1m> Entering new LLMChain chain...\u001b[0m\n",
      "Prompt after formatting:\n",
      "\u001b[32;1m\u001b[1;3m\n",
      "Provide the summary of the entire speech with these important points:\n",
      "Add motivating title to the summary with an introduction and provide the summary as number of points\n",
      "Speech: With a median age of less than 30 years, In dia is among the youngest nations in an \n",
      "aging world. This youth energy should  be channelized positively for nation-\n",
      "building. I am sure that the recently launched New Educatio n Policy is a step in the \n",
      "right direction and will help India train its students to meet the 21st century needs.  \n",
      "Another area that Dr. Kalam passionately ad vocated is the need to bridge the rural \n",
      "and urban divide. His PURA model - Prov iding Urban Amenities in Rural Areas – \n",
      "laid emphasis on enhancing connectivity and building village clusters to spur \n",
      "economic development. Pradhan Mantri Gr am Sadak Yojana launched during then \n",
      "Prime Minister Shri Atal Bihari Vajpayee’ s tenure and Bharat Net project being \n",
      "steered under the leadership of current Pr ime Minister, Shri Narendra Modi are two \n",
      "visionary programs aimed at connectin g our villages with the mainstream.  \n",
      "The pain of the exodus of migrant workers due to Covid-19 pandemic reminds us\n",
      "\u001b[0m\n",
      "\n",
      "\u001b[1m> Finished chain.\u001b[0m\n",
      "\n",
      "\n",
      "\u001b[1m> Entering new LLMChain chain...\u001b[0m\n",
      "Prompt after formatting:\n",
      "\u001b[32;1m\u001b[1;3m\n",
      "Provide the summary of the entire speech with these important points:\n",
      "Add motivating title to the summary with an introduction and provide the summary as number of points\n",
      "Speech: The pain of the exodus of migrant workers due to Covid-19 pandemic reminds us \n",
      "of the need to create employment and econom ic opportunities in villages and small \n",
      "towns. For this, we will have to focus on  decentralized planni ng, capacity building \n",
      "of local bodies and large scale promotion of cottage industries so that our villages \n",
      "and towns emerge as growth centers.  \n",
      "Dr. Kalam established a unique place in the  hearts of Indians as the People’s \n",
      "President. He was a staunch nationalist, an  inspiring orator and a prolific writer. \n",
      "What made him an inspiring and much -loved leader was the human side of \n",
      "Kalam’s personality which touched so many lives.  \n",
      "I strongly believe that the ultimate ai m of science and t echnology is to make \n",
      "people’s lives better. Once, during his vi sit to NIMS in Hyderabad, Dr. Kalam was \n",
      "moved to see polio-stricken children f acing difficulty in walking with heavy \n",
      "calipers made of leather, wood and steel.  Space scientist in him could instantly\n",
      "\u001b[0m\n",
      "\n",
      "\u001b[1m> Finished chain.\u001b[0m\n",
      "\n",
      "\n",
      "\u001b[1m> Entering new LLMChain chain...\u001b[0m\n",
      "Prompt after formatting:\n",
      "\u001b[32;1m\u001b[1;3m\n",
      "Provide the summary of the entire speech with these important points:\n",
      "Add motivating title to the summary with an introduction and provide the summary as number of points\n",
      "Speech: calipers made of leather, wood and steel.  Space scientist in him could instantly \n",
      "visualize how to cut the weight and make th ose prosthetic legs  lighter. Soon his \n",
      "team was able to reduce the weight of the  caliper from 3 kilogram to 300 grams by \n",
      "using advanced composite material used in rockets.  \n",
      "Later on, Dr Kalam had commented, \"Whe n I see children run around and cycle \n",
      "with the artificial limbs we de signed, it is sheer bliss.\"  \n",
      "Not only this, he also worked with cardi ologist Soma Raju, and developed a low-\n",
      "cost coronary stent - the 'Kalam-Raju Sten t'. He always wanted society to benefit \n",
      "from the spinoffs of defence and space technologies.  \n",
      "I am happy to note that during the ong oing Covid-19 pandem ic our scientific \n",
      "community has come up with many innova tions. India had zero production \n",
      "capacity for PPEs at the onset of the pande mic, but today we have emerged as the \n",
      "second-largest producer of PPE  kits in the world. Cha llenges were many, but with\n",
      "\u001b[0m\n",
      "\n",
      "\u001b[1m> Finished chain.\u001b[0m\n",
      "\n",
      "\n",
      "\u001b[1m> Entering new LLMChain chain...\u001b[0m\n",
      "Prompt after formatting:\n",
      "\u001b[32;1m\u001b[1;3m\n",
      "Provide the summary of the entire speech with these important points:\n",
      "Add motivating title to the summary with an introduction and provide the summary as number of points\n",
      "Speech: second-largest producer of PPE  kits in the world. Cha llenges were many, but with \n",
      "a sustained push by the gove rnment, businesses and other stakeholders were able to \n",
      "produce over 5 lakh PPE kits per day. Today, we are in a position to export them to \n",
      "several countries.\n",
      "\u001b[0m\n",
      "\n",
      "\u001b[1m> Finished chain.\u001b[0m\n",
      "\n",
      "\n",
      "\u001b[1m> Entering new LLMChain chain...\u001b[0m\n",
      "Prompt after formatting:\n",
      "\u001b[32;1m\u001b[1;3m\n",
      "Provide the summary of the entire speech with these important points:\n",
      "Add motivating title to the summary with an introduction and provide the summary as number of points\n",
      "Speech: This story needs to be replicated in o ther fields to create a truly ‘Atmanirbhar \n",
      "Bharat’. This was Dr. Kalam’s dream and he  dedicated his entire life to make India \n",
      "self-reliant in defence and space technologies.  \n",
      "Similar were his concerns for the environ ment. He repeatedly said that we have \n",
      "only one livable planet in our solar system . It is our duty to protect the earth and \n",
      "leave a livable planet for our future generations. Even on his last day, while \n",
      "delivering his lecture — “Cre ating a Livable Planet Ear th” at IIM, Shillong, he \n",
      "cautioned humanity of the harm we have inf licted on nature in our blind quest for \n",
      "development.  \n",
      "This is the time to seriousl y follow Dr. Kalam’s sagacious advice and adopt a path \n",
      "of development that is sustainable and environment friendly. Our scientists and \n",
      "engineers should come out with innovative  technological soluti ons that are energy \n",
      "efficient, clean and affordable.\n",
      "\u001b[0m\n",
      "\n",
      "\u001b[1m> Finished chain.\u001b[0m\n",
      "\n",
      "\n",
      "\u001b[1m> Entering new LLMChain chain...\u001b[0m\n",
      "Prompt after formatting:\n",
      "\u001b[32;1m\u001b[1;3m\n",
      "Provide the summary of the entire speech with these important points:\n",
      "Add motivating title to the summary with an introduction and provide the summary as number of points\n",
      "Speech: efficient, clean and affordable.  \n",
      "I am happy that Dr. Pillai has come out with the book ‘40 Years with Abdul \n",
      "Kalam’ providing a gripping, first-hand account of Dr. Kalam.  \n",
      "The life of Dr. Kalam sends a powerf ul message about how difficulties and \n",
      "setbacks when taken in the right spirit, se rve as the key ingredients in making us \n",
      "robust in character and mindset. Today’s generation should draw inspiration from \n",
      "him and dedicatedly work towards building a strong, self-reliant and inclusive \n",
      "India.  \n",
      "Like Dr. Kalam the youth should think out of the box and use technology for \n",
      "providing solutions to the various economic and societal challenges that impact \n",
      "large sections of India’s population.  \n",
      "It is also important as a Nation to be se lf-reliant in strategic in dustries. The book \n",
      "describes how Atmanirbhar Bharat can be realized in the industrial sector.  \n",
      "I am very happy to note that the late Sh ri Pranab Mukherjee, former President of\n",
      "\u001b[0m\n",
      "\n",
      "\u001b[1m> Finished chain.\u001b[0m\n",
      "\n",
      "\n",
      "\u001b[1m> Entering new LLMChain chain...\u001b[0m\n",
      "Prompt after formatting:\n",
      "\u001b[32;1m\u001b[1;3m\n",
      "Provide the summary of the entire speech with these important points:\n",
      "Add motivating title to the summary with an introduction and provide the summary as number of points\n",
      "Speech: I am very happy to note that the late Sh ri Pranab Mukherjee, former President of \n",
      "India wrote the Foreword of this book. Dr. Pillai as the architect of India’s \n",
      "Supersonic Cruise Missile Program – BrahMos has himself made immense \n",
      "contributions to India’s Defence and Aero space capability. I wish him all the very \n",
      "best in his future endeavors.  \n",
      "Thank you.  \n",
      "Jai Hind!”  \n",
      "*****  \n",
      "MS/DP\n",
      "\u001b[0m\n",
      "\n",
      "\u001b[1m> Finished chain.\u001b[0m\n",
      "\n",
      "\u001b[1m> Finished chain.\u001b[0m\n"
     ]
    }
   ],
   "source": [
    "summary_chain=load_summarize_chain(llm,chain_type='refine',question_prompt=map_prompt_template,refine_prompt=final_prompt_template,return_intermediate_steps=True,\n",
    "    input_key=\"input_documents\",verbose=True)\n",
    "result=summary_chain({\"input_documents\": final_documents}, return_only_outputs=True)"
   ]
  },
  {
   "cell_type": "code",
   "execution_count": 45,
   "metadata": {},
   "outputs": [
    {
     "data": {
      "text/plain": [
       "{'intermediate_steps': ['Here is a concise summary of the speech:\\n\\nThe speaker is releasing a book, \"40 Years with Abdul Kalam-- Untold Stories\", written by Dr. Sivathanu Pillai, a close associate of former President Dr. A.P.J. Abdul Kalam. The speaker praises Kalam as a \"People\\'s President\" who inspired Indians, particularly youth, with his simplicity, honesty, and wisdom. He highlights Kalam\\'s significant contributions to India\\'s defense and space capabilities.',\n",
       "  '**\"The Unwavering Leader: Dr. Kalam\\'s Legacy of Dignity and Optimism\"**\\n\\nHere is a summary of the speech in 7 points:\\n\\n1. **New Sense of Purpose**: After becoming the President of India, Dr. Kalam brought a new sense of purpose and grace to the office, which was distinct from his predecessors.\\n\\n2. **A Man is Made of Samskaras**: The minister/president emphasized that it is not the position or place that makes a man, but rather his inner qualities and values (samskaras) that shape him.\\n\\n3. **Discharging Constitutional Responsibilities**: Dr. Kalam discharged his constitutional duties with dignity and quietude, while also making Rashtrapati Bhavan a hub for his pet concerns.\\n\\n4. **Pet Concerns**: His concerns included education, development of Science and Technology, rural development, and the all-round development of children, which are also major concerns for the nation.\\n\\n5. **Transmitting the Dream**: Dr. Kalam transmitted his vision of making India a Developed Nation through his work as President.\\n\\n6. **Personifying Dignity and Optimism**: As President, Dr. Kalam personified dignity and optimism throughout India and abroad, earning him respect and admiration from all corners.\\n\\n7. **International Recognition**: In recognition of his contributions, NASA named a new spacecraft after him, solidifying his reputation as a strong promoter of friendship and knowledge worldwide.',\n",
       "  '**\"Unlocking India\\'s Potential: A Visionary\\'s Legacy\"**\\n\\nHere is a summary of the speech in 7 important points:\\n\\n1. **Honor and Recognition**: NASA named a newly discovered organism found on the International Space Station after Dr. Kalam in 2017, recognizing his contributions.\\n\\n2. **Gardening and Bio-Diversity**: Dr. Kalam nurtured medicinal plants and created an herbal and spiritual garden at Rashtrapati Bhavan, which attracted thousands of visitors, especially school children.\\n\\n3. **India\\'s Development**: Dr. Kalam emphasized the need for India to become a developed nation, given its vast natural resources and talented human resources in diverse fields.\\n\\n4. **Confidence in India\\'s Potential**: He was convinced that India has the potential and capability to become a developed nation in the near future.\\n\\n5. **Vision for Each State**: Dr. Kalam generated a Vision for each State in the form of Display Charts, highlighting their core competence and development schemes.\\n\\n6. **Engaging with MPs**: He invited MPs to Rashtrapati Bhavan and explained the value and importance of their States\\' development schemes.\\n\\n7. **Passion for Development**: Dr. Kalam\\'s biggest passion was to unlock India\\'s potential and drive its development, showcasing his commitment to the country\\'s growth and progress.',\n",
       "  '**\"Empowering the Future: Unlocking Core Competence for Nation-Building\"**\\n\\n**Introduction:**\\nThe speech highlights the importance of core competence and development schemes in building a strong nation. The speaker\\'s passion is to inspire and motivate school and college students to work towards nation-building activities with enthusiasm and dedication.\\n\\n**Summary:**\\n\\n1. **Core Competence is Key:** The speaker emphasizes that core competence is the foundation of any successful nation-building effort. It requires a deep understanding of the country\\'s strengths, weaknesses, and values.\\n\\n2. **Motivation is Crucial:** The speaker stresses that motivation is essential to drive individuals to work towards nation-building activities. He believes that students are the future leaders and it is essential to inspire them to take charge.\\n\\n3. **Development Schemes are Essential:** The speaker highlights the importance of development schemes in building a strong nation. He emphasizes that these schemes should be designed to cater to the needs of the people and should be inclusive.\\n\\n4. **Passion is the Fuel:** The speaker emphasizes that passion is the fuel that drives individuals to work towards nation-building activities. He encourages students to find their passion and pursue it with dedication.\\n\\n5. **Collaboration is Key:** The speaker stresses the importance of collaboration in nation-building. He emphasizes that individuals from different backgrounds and disciplines should work together to achieve common goals.\\n\\n6. **Empowering the Youth:** The speaker believes that empowering the youth is essential to build a strong nation. He emphasizes that students should be given opportunities to develop their skills and talents.\\n\\n7. **Role of Education:** The speaker highlights the critical role of education in nation-building. He emphasizes that education should be accessible to all and should focus on developing the skills and values necessary for nation-building.\\n\\n8. **Conclusion:** The speaker concludes by emphasizing the importance of core competence, motivation, development schemes, passion, collaboration, and education in building a strong nation. He encourages students to work towards nation-building activities with enthusiasm and dedication.',\n",
       "  '**\"Harnessing India\\'s Youth Energy for Nation-Building: A Vision for the Future\"**\\n\\nHere is a summary of the speech in 7 key points:\\n\\n1. **India\\'s Youthful Demographic**: With a median age of less than 30 years, India is among the youngest nations in the world, and this youth energy should be channeled positively for nation-building.\\n\\n2. **New Education Policy**: The recently launched New Education Policy is a step in the right direction, aimed at training students to meet the 21st century needs.\\n\\n3. **Bridging the Rural-Urban Divide**: Dr. Kalam emphasized the need to bridge the rural-urban divide through the PURA model, which focuses on enhancing connectivity and building village clusters to spur economic development.\\n\\n4. **Connecting Villages**: Pradhan Mantri Gram Sadak Yojana and Bharat Net project are two visionary programs aimed at connecting rural areas with the mainstream, stepping up the pace of development.\\n\\n5. **Migrant Worker Exodus**: The Covid-19 pandemic has highlighted the pain of migrant workers who had to leave their homes in search of work, emphasizing the need for connectivity and economic development in rural areas.\\n\\n6. **Connectivity as Key**: Connectivity is crucial for bridging the rural-urban divide and ensuring economic development, particularly in the context of the Covid-19 pandemic.\\n\\n7. **A Vision for the Future**: By channeling India\\'s youth energy, bridging the rural-urban divide, and prioritizing connectivity, India can build a brighter future for its citizens and emerge as a strong and resilient nation.',\n",
       "  '**\"Empowering Villages and Small Towns: A Call to Action\"**\\n\\n**Introduction:** The COVID-19 pandemic has highlighted the need to create employment and economic opportunities in villages and small towns, reminding us of the pain of the exodus of migrant workers. To achieve this, we must focus on decentralized planning, capacity building of local bodies, and large-scale promotion of cottage industries.\\n\\n**Summary:**\\n\\n1. **The Pain of Exodus:** The COVID-19 pandemic has led to the exodus of migrant workers, emphasizing the need to create employment and economic opportunities in villages and small towns.\\n2. **Decentralized Planning:** To achieve this, we must focus on decentralized planning, enabling villages and small towns to emerge as growth centers.\\n3. **Capacity Building:** Capacity building of local bodies is crucial to empower them to take decisions and implement initiatives that benefit their communities.\\n4. **Promotion of Cottage Industries:** Large-scale promotion of cottage industries can create employment opportunities and stimulate economic growth in villages and small towns.\\n5. **Inspiration from Dr. Kalam:** The legacy of Dr. A.P.J. Abdul Kalam, the People\\'s President, inspires us to focus on the human side of leadership and to use science and technology to improve people\\'s lives.\\n6. **The Human Side of Leadership:** Dr. Kalam\\'s personality, which touched so many lives, was characterized by his human side, which made him an inspiring and much-loved leader.\\n7. **The Ultimate Goal of Science and Technology:** The ultimate goal of science and technology is to make people\\'s lives better, as exemplified by Dr. Kalam\\'s visit to NIMS in Hyderabad, where he was moved by the struggles of polio-stricken children.',\n",
       "  '**\"Harnessing Innovation for Human Benefit: The Legacy of Dr. A.P.J. Abdul Kalam\"**\\n\\n**Summary:**\\n\\n1. Dr. A.P.J. Abdul Kalam, a space scientist, was able to visualize ways to improve prosthetic legs by applying his knowledge to design a lighter caliper.\\n2. His team was able to reduce the weight of the caliper from 3 kilograms to 300 grams by using advanced composite materials used in rockets.\\n3. Dr. Kalam took great joy in seeing children run and cycle with the artificial limbs they designed, calling it \"sheer bliss\".\\n4. He collaborated with cardiologist Soma Raju to develop a low-cost coronary stent, known as the \"Kalam-Raju Stent\", aiming to benefit society from spinoffs of defence and space technologies.\\n5. Dr. Kalam\\'s legacy continues to inspire innovation, as evident in India\\'s scientific community\\'s response to the COVID-19 pandemic.\\n6. Despite initially having zero production capacity for PPEs, India has emerged as the second-largest producer of PPE kits in the world, overcoming numerous challenges.\\n7. The speech highlights the importance of harnessing innovation to improve human lives, echoing Dr. Kalam\\'s philosophy of applying defence and space technologies for the greater good.',\n",
       "  '**\"Overcoming Challenges: A Success Story of PPE Kit Production\"**\\n\\n**Introduction:**\\nThe speaker shares a remarkable story of overcoming challenges to become the second-largest producer of PPE kits in the world.\\n\\n**Summary Points:**\\n\\n1. **Challenges Galore**: Despite numerous challenges, we persevered and made significant progress in producing PPE kits.\\n2. **Government Support**: The government played a crucial role in providing sustained support to ensure the production of over 5 lakh PPE kits per day.\\n3. **Businesses and Stakeholders**: Businesses and other stakeholders worked together to overcome the challenges and achieve remarkable results.\\n4. **Production Milestone**: We successfully produced over 5 lakh PPE kits per day, a testament to our determination and hard work.\\n5. **Export Opportunities**: Today, we have the capacity to export these PPE kits to several countries, a significant achievement for our nation.\\n6. **A Success Story**: This story of overcoming challenges and achieving success serves as an inspiration to others, demonstrating the power of collaboration and determination.',\n",
       "  '**\"Replicating Dr. Kalam\\'s Vision for a Sustainable and Environment-Friendly India\"**\\n\\nSummary:\\n\\n1. Dr. Kalam\\'s dream was to create a self-reliant India in defence and space technologies, and this vision needs to be replicated in other fields to achieve a truly \"Atmanirbhar Bharat\".\\n2. Dr. Kalam was deeply concerned about the environment and repeatedly emphasized the importance of protecting the earth for future generations, as we only have one livable planet in our solar system.\\n3. In his last lecture, \"Creating a Livable Planet Earth\" at IIM, Shillong, Dr. Kalam warned humanity about the harm caused to nature in the pursuit of development and urged us to adopt a sustainable and environment-friendly path.\\n4. It is crucial to seriously follow Dr. Kalam\\'s advice and adopt a development path that is sustainable, energy-efficient, clean, and affordable.\\n5. Scientists and engineers should come up with innovative technological solutions that address environmental concerns while promoting economic growth and development.',\n",
       "  '**\"Embracing the Spirit of Dr. Kalam: A Call to Action for a Stronger India\"**\\n\\nSummary:\\n\\n1. The speaker is pleased that Dr. Pillai has written a book about Dr. Kalam\\'s life, \"40 Years with Abdul Kalam\", which provides a gripping account of Dr. Kalam\\'s life.\\n2. The speaker believes that Dr. Kalam\\'s life sends a powerful message about how difficulties and setbacks can make us robust in character and mindset, and that today\\'s generation should draw inspiration from him.\\n3. The speaker encourages the youth to think out of the box and use technology to solve economic and societal challenges that affect large sections of India\\'s population, just as Dr. Kalam did.\\n4. The speaker emphasizes the importance of India being self-reliant in strategic industries, as described in the book, and notes that this can be achieved through the concept of Atmanirbhar Bharat in the industrial sector.\\n5. The speaker expresses happiness that the late Shri Pranab Mukherjee, former President of India, had also emphasized the importance of self-reliance and had contributed to the growth of India\\'s industries.\\n\\nThis speech is a call to action for the youth of India to draw inspiration from Dr. Kalam\\'s life and work towards building a strong, self-reliant, and inclusive India.',\n",
       "  '**\"Honoring the Legacy of Dr. A.P.J. Abdul Kalam\\'s Successor: A Tribute to Dr. Avinash Chandra Pillai\"**\\n\\nHere is a summary of the speech in 4 points:\\n\\n1. **Recognition of Late Shri Pranab Mukherjee\\'s Foreword**: The speaker is delighted to note that the late Shri Pranab Mukherjee, former President of India, wrote the Foreword of a book.\\n2. **Dr. Avinash Chandra Pillai\\'s Contributions**: Dr. Pillai, as the architect of India\\'s Supersonic Cruise Missile Program – BrahMos, has made significant contributions to India\\'s Defence and Aerospace capability.\\n3. **Wishes for Dr. Pillai\\'s Future Endeavors**: The speaker wishes Dr. Pillai all the very best in his future endeavors, acknowledging his achievements and dedication to the field.\\n4. **Closing Remarks**: The speech concludes with a thank you and a slogan, \"Jai Hind!\", expressing gratitude and patriotism.'],\n",
       " 'output_text': '**\"Honoring the Legacy of Dr. A.P.J. Abdul Kalam\\'s Successor: A Tribute to Dr. Avinash Chandra Pillai\"**\\n\\nHere is a summary of the speech in 4 points:\\n\\n1. **Recognition of Late Shri Pranab Mukherjee\\'s Foreword**: The speaker is delighted to note that the late Shri Pranab Mukherjee, former President of India, wrote the Foreword of a book.\\n2. **Dr. Avinash Chandra Pillai\\'s Contributions**: Dr. Pillai, as the architect of India\\'s Supersonic Cruise Missile Program – BrahMos, has made significant contributions to India\\'s Defence and Aerospace capability.\\n3. **Wishes for Dr. Pillai\\'s Future Endeavors**: The speaker wishes Dr. Pillai all the very best in his future endeavors, acknowledging his achievements and dedication to the field.\\n4. **Closing Remarks**: The speech concludes with a thank you and a slogan, \"Jai Hind!\", expressing gratitude and patriotism.'}"
      ]
     },
     "execution_count": 45,
     "metadata": {},
     "output_type": "execute_result"
    }
   ],
   "source": [
    "result"
   ]
  }
 ],
 "metadata": {
  "kernelspec": {
   "display_name": "venv",
   "language": "python",
   "name": "python3"
  },
  "language_info": {
   "codemirror_mode": {
    "name": "ipython",
    "version": 3
   },
   "file_extension": ".py",
   "mimetype": "text/x-python",
   "name": "python",
   "nbconvert_exporter": "python",
   "pygments_lexer": "ipython3",
   "version": "3.11.9"
  }
 },
 "nbformat": 4,
 "nbformat_minor": 2
}
